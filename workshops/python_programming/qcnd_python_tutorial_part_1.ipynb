{
 "cells": [
  {
   "cell_type": "markdown",
   "metadata": {},
   "source": [
    "# Intro to Python Part I\n",
    "\n",
    "Who we are:\n",
    "* Luke Distefano \n",
    "* **Kyle Duffy**\n",
    "\n",
    "What we're going to talk about:\n",
    "\n",
    "1. Numerical Manipulation\n",
    "    1. Arithmetic\n",
    "    2. Variables\n",
    "    \n",
    "    \n",
    "2. Basic Data Types and Type Conversion\n",
    "\n",
    "    \n",
    "3. Imports"
   ]
  },
  {
   "cell_type": "markdown",
   "metadata": {},
   "source": [
    "```python\n",
    "# We use the hash sign to write a one-line comment.\n",
    "\n",
    "'''We can also write multi-line comments\n",
    "by using triple quotes.''' \n",
    "```"
   ]
  },
  {
   "cell_type": "markdown",
   "metadata": {},
   "source": [
    "# Numerical Manipulation\n",
    "## Arithmetic\n",
    "### Numbers"
   ]
  },
  {
   "cell_type": "code",
   "execution_count": null,
   "metadata": {},
   "outputs": [],
   "source": [
    "4 # integers"
   ]
  },
  {
   "cell_type": "code",
   "execution_count": null,
   "metadata": {},
   "outputs": [],
   "source": [
    "-15.2 # negative numbers and floating point decimals"
   ]
  },
  {
   "cell_type": "code",
   "execution_count": null,
   "metadata": {},
   "outputs": [],
   "source": [
    "5 + 7j # complex numbers"
   ]
  },
  {
   "cell_type": "markdown",
   "metadata": {},
   "source": [
    "### You can use Python as a calculator."
   ]
  },
  {
   "cell_type": "code",
   "execution_count": null,
   "metadata": {},
   "outputs": [],
   "source": [
    "3 + 5 # addition"
   ]
  },
  {
   "cell_type": "code",
   "execution_count": null,
   "metadata": {},
   "outputs": [],
   "source": [
    "9 - 3 # subtraction "
   ]
  },
  {
   "cell_type": "code",
   "execution_count": null,
   "metadata": {},
   "outputs": [],
   "source": [
    "4 * 3 # multiplication"
   ]
  },
  {
   "cell_type": "code",
   "execution_count": null,
   "metadata": {},
   "outputs": [],
   "source": [
    "16 / 4 # division (results in a float type result)"
   ]
  },
  {
   "cell_type": "code",
   "execution_count": null,
   "metadata": {},
   "outputs": [],
   "source": [
    "16 // 4 # floor division results in a whole number (the decimal portion gets cut off)"
   ]
  },
  {
   "cell_type": "code",
   "execution_count": null,
   "metadata": {},
   "outputs": [],
   "source": [
    "16 // 3"
   ]
  },
  {
   "cell_type": "code",
   "execution_count": null,
   "metadata": {},
   "outputs": [],
   "source": [
    "17 // 3 # notice how it rounds down (watch out when you deal with negative numbers!)"
   ]
  },
  {
   "cell_type": "code",
   "execution_count": null,
   "metadata": {},
   "outputs": [],
   "source": [
    "7 % 4 # modulus operator (finds the remainder from division)"
   ]
  },
  {
   "cell_type": "code",
   "execution_count": null,
   "metadata": {},
   "outputs": [],
   "source": [
    "5 ** 2 # exponentiation (in this case 5 to the power 2)"
   ]
  },
  {
   "cell_type": "markdown",
   "metadata": {},
   "source": [
    "### Practice Problem 1 \n",
    "a) Use Python to find the final balance of an account after the following trades:\n",
    "- Beginning Balance: 5,000\n",
    "- Buy: 437 Shares at 4.50 per share\n",
    "- Sell: 114 Shares at 6.40 per share\n",
    "\n",
    "b) How many shares of a 250 dollar stock could you buy after those two trades? Give an integer and fractional answer.\n",
    "\n",
    "c) After purchasing the max integer number of 250 dollar shares, how much money would remain?"
   ]
  },
  {
   "cell_type": "markdown",
   "metadata": {},
   "source": [
    "### <font color=red>Answer:</font>"
   ]
  },
  {
   "cell_type": "code",
   "execution_count": null,
   "metadata": {},
   "outputs": [],
   "source": []
  },
  {
   "cell_type": "markdown",
   "metadata": {},
   "source": [
    "## Variables"
   ]
  },
  {
   "cell_type": "markdown",
   "metadata": {},
   "source": [
    "To set a variable, we create a name, then write an equals sign (`=`), then give it a value, like this:\n",
    "```python\n",
    "<name> = <value/object with value> \n",
    "```"
   ]
  },
  {
   "cell_type": "code",
   "execution_count": null,
   "metadata": {},
   "outputs": [],
   "source": [
    "stockPriceA = 50 # assign a value to a variable"
   ]
  },
  {
   "cell_type": "code",
   "execution_count": null,
   "metadata": {},
   "outputs": [],
   "source": [
    "stockPriceB = 75"
   ]
  },
  {
   "cell_type": "code",
   "execution_count": null,
   "metadata": {},
   "outputs": [],
   "source": [
    "stockPriceA + stockPriceB # can use operators on variables (+,-,*,/,etc.)"
   ]
  },
  {
   "cell_type": "code",
   "execution_count": null,
   "metadata": {},
   "outputs": [],
   "source": [
    "stockPriceA = stockPriceA + 1 # often need to increase a variable by 1"
   ]
  },
  {
   "cell_type": "code",
   "execution_count": null,
   "metadata": {},
   "outputs": [],
   "source": [
    "stockPriceA += 1 # quicker way to increment"
   ]
  },
  {
   "cell_type": "code",
   "execution_count": null,
   "metadata": {},
   "outputs": [],
   "source": [
    "stockPriceA # prints the current value stored in the variable"
   ]
  },
  {
   "cell_type": "markdown",
   "metadata": {},
   "source": [
    "# Basic Data Types"
   ]
  },
  {
   "cell_type": "markdown",
   "metadata": {},
   "source": [
    "Every object has a _type_, and although Python lets you operate on objects without knowing their type, it's important to keep types in mind because different types behave differently. \n",
    "\n",
    "For example, look how the output of `+` differs in different contexts:"
   ]
  },
  {
   "cell_type": "code",
   "execution_count": null,
   "metadata": {},
   "outputs": [],
   "source": [
    "some_integer = 3\n",
    "another_integer = 2\n",
    "some_integer + another_integer"
   ]
  },
  {
   "cell_type": "code",
   "execution_count": null,
   "metadata": {},
   "outputs": [],
   "source": [
    "some_string = 'hello'\n",
    "another_string = 'world'\n",
    "some_string + another_string"
   ]
  },
  {
   "cell_type": "markdown",
   "metadata": {},
   "source": [
    "Among the data types in Python there are: `integer`, `float`, `string`, `list`, `set` and `dict`--they are called classes.\n",
    "\n",
    "Below we are also using a few simple functions: `type`, `print`, `len`."
   ]
  },
  {
   "cell_type": "markdown",
   "metadata": {},
   "source": [
    "#### Interger type (whole number)"
   ]
  },
  {
   "cell_type": "code",
   "execution_count": null,
   "metadata": {},
   "outputs": [],
   "source": [
    "int_typ_a = 3\n",
    "int_typ_b = 2\n",
    "type(int_typ_a)"
   ]
  },
  {
   "cell_type": "code",
   "execution_count": null,
   "metadata": {},
   "outputs": [],
   "source": [
    "ex_int_sum = int_typ_a + int_typ_b\n",
    "type(ex_int_sum) # addition, subtraction, and multiplication of integer types results in an integer type"
   ]
  },
  {
   "cell_type": "markdown",
   "metadata": {},
   "source": [
    "#### Float type (decimals)"
   ]
  },
  {
   "cell_type": "code",
   "execution_count": null,
   "metadata": {},
   "outputs": [],
   "source": [
    "fl_typ_a = 6.12\n",
    "type(fl_typ_a)"
   ]
  },
  {
   "cell_type": "code",
   "execution_count": null,
   "metadata": {},
   "outputs": [],
   "source": [
    "ex_fl_in_arith = fl_typ_a - int_typ_b\n",
    "type(ex_fl_in_arith) # any arithmetic involving at least one float type results in a float type"
   ]
  },
  {
   "cell_type": "markdown",
   "metadata": {},
   "source": [
    "#### String type"
   ]
  },
  {
   "cell_type": "code",
   "execution_count": null,
   "metadata": {},
   "outputs": [],
   "source": [
    "# a string literal is an object that holds a string of specific, explicit characters\n",
    "str_typ_a = 'a string literal'\n",
    "str_typ_b = \"also a string literal\"\n",
    "# string literals can be defined by single or double quotes\n",
    "type(str_typ_a)"
   ]
  },
  {
   "cell_type": "code",
   "execution_count": null,
   "metadata": {},
   "outputs": [],
   "source": [
    "# concatenation: combining two strings with the + operator\n",
    "conc_str = str_typ_a + str_typ_b\n",
    "conc_str"
   ]
  },
  {
   "cell_type": "code",
   "execution_count": null,
   "metadata": {},
   "outputs": [],
   "source": [
    "# use the len() function to find the number of characters (including white space) in a string\n",
    "len(str_typ_a)"
   ]
  },
  {
   "cell_type": "code",
   "execution_count": null,
   "metadata": {},
   "outputs": [],
   "source": [
    "# access a character of a string using the index 0 through (length-1)\n",
    "str_typ_b[5]"
   ]
  },
  {
   "cell_type": "code",
   "execution_count": null,
   "metadata": {},
   "outputs": [],
   "source": [
    "# a slice is when a section of a string is extracted using indices separated by a ':'\n",
    "str_slc = str_typ_a[2:8]\n",
    "print(str_slc)"
   ]
  },
  {
   "cell_type": "code",
   "execution_count": null,
   "metadata": {},
   "outputs": [],
   "source": [
    "# a multiline string is created similarly to a multiline comment\n",
    "mlstr = '''this is a multi\n",
    "line string'''\n",
    "mlstr"
   ]
  },
  {
   "cell_type": "markdown",
   "metadata": {},
   "source": [
    "#### Lists: comma-separated items of any type contained in square braces"
   ]
  },
  {
   "cell_type": "code",
   "execution_count": null,
   "metadata": {},
   "outputs": [],
   "source": [
    "top_five = [1,2,3,4,5]\n",
    "type(top_five) # list - containing integers"
   ]
  },
  {
   "cell_type": "code",
   "execution_count": null,
   "metadata": {},
   "outputs": [],
   "source": [
    "home_anmls = ['cat','dog','mouse']\n",
    "type(home_anmls) # list - containing strings"
   ]
  },
  {
   "cell_type": "code",
   "execution_count": null,
   "metadata": {},
   "outputs": [],
   "source": [
    "mixed_list = ['one','1',[1,1,1]]\n",
    "type(mixed_list) # list - can contain multiple types, even other lists"
   ]
  },
  {
   "cell_type": "markdown",
   "metadata": {},
   "source": [
    "Some data types have operations associated with them using the data contained. These operations are called \"methods\" and are accessed with the following syntax:\n",
    "``` python\n",
    "<object_name>.<method name>(<args>)\n",
    "```\n",
    "\n",
    "Lists are a great example of where these methods can be useful. Two important ones are `append` and `remove`."
   ]
  },
  {
   "cell_type": "code",
   "execution_count": null,
   "metadata": {},
   "outputs": [],
   "source": [
    "mixed_list.append(\"adding to the end of a list\") # .append() function adds an element to the end of a list\n",
    "print(mixed_list)"
   ]
  },
  {
   "cell_type": "code",
   "execution_count": null,
   "metadata": {},
   "outputs": [],
   "source": [
    "home_anmls[0] # extracts the first element of the list; starts at 0 in Python - same as accessing in a string\n",
    "#slicing a list uses the same method as slicing a string"
   ]
  },
  {
   "cell_type": "code",
   "execution_count": null,
   "metadata": {},
   "outputs": [],
   "source": [
    "len(home_anmls) # gives the number of elements in a list (its length) "
   ]
  },
  {
   "cell_type": "code",
   "execution_count": null,
   "metadata": {},
   "outputs": [],
   "source": [
    "home_anmls.remove('cat') # list-name.remove(element) removes that element from a list\n",
    "print(home_anmls)"
   ]
  },
  {
   "cell_type": "markdown",
   "metadata": {},
   "source": [
    "#### Dictionaries: one of the most powerful and useful features in python.\n",
    "\n",
    "We'll definitely be seeing these later. For now, it's important to know we use them to quickly find data called a `value` associated with a label, which we call a `key`."
   ]
  },
  {
   "cell_type": "code",
   "execution_count": null,
   "metadata": {},
   "outputs": [],
   "source": [
    "portfolio_a = {'stockA':100,'stockB':230} # dictionary; in this case stockA and stockB are keys, and 100 and 230 are corresponding values\n",
    "type(portfolio_a)\n",
    "# keys are separated from their values with ':' meanwhile key-value pairs are separated with ','"
   ]
  },
  {
   "cell_type": "code",
   "execution_count": null,
   "metadata": {},
   "outputs": [],
   "source": [
    "portfolio_a['stockB'] # you can print/access a value by providing the key "
   ]
  },
  {
   "cell_type": "code",
   "execution_count": null,
   "metadata": {},
   "outputs": [],
   "source": [
    "portfolio_a['stockC'] = 175 # to add an item\n",
    "print(portfolio_a)"
   ]
  },
  {
   "attachments": {
    "basic_dict.png": {
     "image/png": "[encoded data removed]"
    }
   },
   "cell_type": "markdown",
   "metadata": {},
   "source": [
    "![basic_dict.png](attachment:basic_dict.png)"
   ]
  },
  {
   "cell_type": "markdown",
   "metadata": {},
   "source": [
    "### Type Conversion\n",
    "\n",
    "Some types can be converted into one another pretty naturally."
   ]
  },
  {
   "cell_type": "code",
   "execution_count": null,
   "metadata": {},
   "outputs": [],
   "source": [
    "print(float(7))"
   ]
  },
  {
   "cell_type": "code",
   "execution_count": null,
   "metadata": {},
   "outputs": [],
   "source": [
    "print(int(9.8)) # this will always truncate the value (make it closer to zero)"
   ]
  },
  {
   "cell_type": "code",
   "execution_count": null,
   "metadata": {},
   "outputs": [],
   "source": [
    "print(str(25))"
   ]
  },
  {
   "cell_type": "code",
   "execution_count": null,
   "metadata": {},
   "outputs": [],
   "source": [
    "print(list('hello')) # converting a string into a list of string literals "
   ]
  },
  {
   "cell_type": "code",
   "execution_count": null,
   "metadata": {},
   "outputs": [],
   "source": [
    "print(dict([[2, 4], [3, 9]])) # converting a list of two lists into a dictionary"
   ]
  },
  {
   "cell_type": "markdown",
   "metadata": {},
   "source": [
    "We can have implicit type conversion:"
   ]
  },
  {
   "cell_type": "code",
   "execution_count": null,
   "metadata": {},
   "outputs": [],
   "source": [
    "num_int = 123\n",
    "num_flo = 1.23\n",
    "\n",
    "num_new = num_int + num_flo\n",
    "\n",
    "print(\"Value of num_new:\", num_new)"
   ]
  },
  {
   "cell_type": "code",
   "execution_count": null,
   "metadata": {},
   "outputs": [],
   "source": [
    "print(\"Data type of num_new:\", type(num_new))"
   ]
  },
  {
   "cell_type": "markdown",
   "metadata": {},
   "source": [
    "Explicit type conversion is often called type casting:"
   ]
  },
  {
   "cell_type": "code",
   "execution_count": null,
   "metadata": {},
   "outputs": [],
   "source": [
    "num_int = 123\n",
    "num_str = \"456\"\n",
    "\n",
    "num_str = int(num_str)\n",
    "print(\"Data type of num_str after type casting:\", type(num_str))"
   ]
  },
  {
   "cell_type": "code",
   "execution_count": null,
   "metadata": {},
   "outputs": [],
   "source": [
    "num_sum = num_int + num_str\n",
    "\n",
    "print(\"Sum of num_int and num_str:\", num_sum)"
   ]
  },
  {
   "cell_type": "code",
   "execution_count": null,
   "metadata": {},
   "outputs": [],
   "source": [
    "print(\"Data type of the sum:\", type(num_sum))"
   ]
  },
  {
   "cell_type": "markdown",
   "metadata": {},
   "source": [
    "# Imports \n",
    "\n",
    "There are three ways to import a package.\n",
    "\n",
    "* `import <name>` imports the package called `<name>`.\n",
    "* `import <name> as <another name>` also imports `<name>` but lets you call it by `<another name>`.\n",
    "* `from <name> import <internal name>` only imports the structure named `<internal name>` from the package `<name>`."
   ]
  },
  {
   "cell_type": "code",
   "execution_count": null,
   "metadata": {},
   "outputs": [],
   "source": [
    "import math\n",
    "import numpy as np\n",
    "import random\n",
    "from sys import path"
   ]
  },
  {
   "cell_type": "markdown",
   "metadata": {},
   "source": [
    "**Bonus**: can you guess what `from <name> import <internal name> as <another name>` does?"
   ]
  },
  {
   "cell_type": "markdown",
   "metadata": {},
   "source": [
    "Packages are useful because they allow you to use external code with useful features. For example, let's generate some random numbers. Run the cell below several times to get different random numbers between 1 and 10.\n",
    "\n",
    "Don't be afraid to play with the method arguments and see what happens!"
   ]
  },
  {
   "cell_type": "code",
   "execution_count": null,
   "metadata": {},
   "outputs": [],
   "source": [
    "random.randint(1,11)"
   ]
  }
 ],
 "metadata": {
  "kernelspec": {
   "display_name": "Python 3",
   "language": "python",
   "name": "python3"
  },
  "language_info": {
   "codemirror_mode": {
    "name": "ipython",
    "version": 3
   },
   "file_extension": ".py",
   "mimetype": "text/x-python",
   "name": "python",
   "nbconvert_exporter": "python",
   "pygments_lexer": "ipython3",
   "version": "3.6.12"
  }
 },
 "nbformat": 4,
 "nbformat_minor": 4
}
