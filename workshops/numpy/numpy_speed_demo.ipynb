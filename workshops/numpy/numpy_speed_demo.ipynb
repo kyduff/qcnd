{
 "cells": [
  {
   "cell_type": "markdown",
   "metadata": {},
   "source": [
    "# Intro to Numpy Part 1\n",
    "\n",
    "### Numpy speed demonstration\n",
    "\n",
    "We'll see that using numpy is around 10x faster than basic python, depending on the specific task.\n",
    "First we'll try simply adding a large quantity of numbers together."
   ]
  },
  {
   "cell_type": "code",
   "execution_count": 1,
   "metadata": {},
   "outputs": [],
   "source": [
    "import numpy as np\n",
    "import timeit"
   ]
  },
  {
   "cell_type": "code",
   "execution_count": 2,
   "metadata": {},
   "outputs": [],
   "source": [
    "def normal_add(n):\n",
    "    total = 0\n",
    "    for i in range(1, n+1):\n",
    "        total += i\n",
    "    return total"
   ]
  },
  {
   "cell_type": "code",
   "execution_count": 3,
   "metadata": {},
   "outputs": [],
   "source": [
    "def numpy_add(n):\n",
    "    nums = np.arange(1, n+1)\n",
    "    return np.sum(nums)"
   ]
  },
  {
   "cell_type": "code",
   "execution_count": 4,
   "metadata": {},
   "outputs": [
    {
     "name": "stdout",
     "output_type": "stream",
     "text": [
      "500500\n",
      "500500\n"
     ]
    }
   ],
   "source": [
    "print(normal_add(1000))\n",
    "print(numpy_add(1000))"
   ]
  },
  {
   "cell_type": "code",
   "execution_count": 5,
   "metadata": {},
   "outputs": [
    {
     "name": "stdout",
     "output_type": "stream",
     "text": [
      "52.705419466522756\n"
     ]
    }
   ],
   "source": [
    "# have to put the functions inside a string because of how timeit works -- not important to remember\n",
    "\n",
    "add_time_setup = '''\n",
    "import numpy as np\n",
    "\n",
    "def basic_add(n):\n",
    "    total = 0\n",
    "    for i in range(1, n+1):\n",
    "        total += i\n",
    "    return total\n",
    "\n",
    "def numpy_add(n):\n",
    "    nums = np.arange(1, n+1)\n",
    "    return np.sum(nums)\n",
    "'''\n",
    "\n",
    "# find the time difference between the two methods\n",
    "basic_time = timeit.timeit('basic_add(10000000)', add_time_setup, number=1)\n",
    "numpy_time = timeit.timeit('numpy_add(10000000)', add_time_setup, number=1)\n",
    "\n",
    "print(basic_time/numpy_time)"
   ]
  },
  {
   "cell_type": "markdown",
   "metadata": {},
   "source": [
    "Now let's do something more complex--let's try solving an expanded version of an example from last time.\n",
    "\n",
    "Example 1:\n",
    "\n",
    "Say you have an array for which the ith element is the price of a given stock on day i.\n",
    "If you were only permitted to complete at most one transaction (i.e., buy one and sell one share of the stock), design an algorithm to find the maximum profit.\n",
    "Note that you cannot sell a stock before you buy one."
   ]
  },
  {
   "cell_type": "code",
   "execution_count": 6,
   "metadata": {},
   "outputs": [],
   "source": [
    "def basic_solution(prices):\n",
    "    lowest_price = prices[0]\n",
    "    max_profit = 0\n",
    "    # compare each price to a running minimum\n",
    "    for i in range(len(prices)):\n",
    "        if prices[i] < lowest_price:\n",
    "            lowest_price = prices[i]\n",
    "        if prices[i] - lowest_price > max_profit:\n",
    "            max_profit = prices[i] - lowest_price\n",
    "    return max_profit"
   ]
  },
  {
   "cell_type": "code",
   "execution_count": 7,
   "metadata": {},
   "outputs": [],
   "source": [
    "def numpy_solution(prices):\n",
    "    # make sure prices is an array\n",
    "    np.asarray(prices)\n",
    "    # using vectorized numpy functions\n",
    "    return np.max(prices - np.minimum.accumulate(prices))"
   ]
  },
  {
   "cell_type": "code",
   "execution_count": 8,
   "metadata": {},
   "outputs": [
    {
     "name": "stdout",
     "output_type": "stream",
     "text": [
      "[42 78 75 12 18 77 35 14 38 23 23 17 19 94 76]\n",
      "82\n",
      "82\n"
     ]
    }
   ],
   "source": [
    "# create sequence of 15 random integer prices between 1 and 100\n",
    "\n",
    "prices = np.random.randint(1, 100, 15)\n",
    "\n",
    "print(prices)\n",
    "                  \n",
    "print(basic_solution(prices))\n",
    "print(numpy_solution(prices))"
   ]
  },
  {
   "cell_type": "code",
   "execution_count": 9,
   "metadata": {},
   "outputs": [
    {
     "name": "stdout",
     "output_type": "stream",
     "text": [
      "65.03835673862322\n"
     ]
    }
   ],
   "source": [
    "solution_time_setup = '''\n",
    "import numpy as np\n",
    "\n",
    "price_list = np.random.randint(0, 100, size=100000)\n",
    "\n",
    "def basic_solution(prices):\n",
    "    lowest_price = prices[0]\n",
    "    max_profit = 0\n",
    "    # compare each price to a running minimum\n",
    "    for i in range(len(prices)):\n",
    "        if prices[i] < lowest_price:\n",
    "            lowest_price = prices[i]\n",
    "        if prices[i] - lowest_price > max_profit:\n",
    "            max_profit = prices[i] - lowest_price\n",
    "    return max_profit\n",
    "\n",
    "def numpy_solution(prices):\n",
    "    # using vectorized numpy functions\n",
    "    return np.max(prices - np.minimum.accumulate(prices))\n",
    "'''\n",
    "\n",
    "# find the time difference between the two methods\n",
    "basic_time = timeit.timeit('basic_solution(price_list)', solution_time_setup, number = 1)\n",
    "numpy_time = timeit.timeit('numpy_solution(price_list)', solution_time_setup, number = 1)\n",
    "\n",
    "print(basic_time/numpy_time)"
   ]
  }
 ],
 "metadata": {
  "kernelspec": {
   "display_name": "Python 3",
   "language": "python",
   "name": "python3"
  },
  "language_info": {
   "codemirror_mode": {
    "name": "ipython",
    "version": 3
   },
   "file_extension": ".py",
   "mimetype": "text/x-python",
   "name": "python",
   "nbconvert_exporter": "python",
   "pygments_lexer": "ipython3",
   "version": "3.8.5"
  }
 },
 "nbformat": 4,
 "nbformat_minor": 2
}
